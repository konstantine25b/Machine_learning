{
 "cells": [
  {
   "cell_type": "markdown",
   "metadata": {},
   "source": [
    "# Model Inference"
   ]
  },
  {
   "cell_type": "code",
   "execution_count": 21,
   "metadata": {},
   "outputs": [],
   "source": [
    "import mlflow\n",
    "import pandas as pd\n",
    "import numpy as np\n",
    "import dagshub\n",
    "\n"
   ]
  },
  {
   "cell_type": "markdown",
   "metadata": {},
   "source": [
    "# Best Model"
   ]
  },
  {
   "cell_type": "markdown",
   "metadata": {},
   "source": [
    "### Import dagshub , model"
   ]
  },
  {
   "cell_type": "code",
   "execution_count": 22,
   "metadata": {},
   "outputs": [
    {
     "data": {
      "text/html": [
       "<pre style=\"white-space:pre;overflow-x:auto;line-height:normal;font-family:Menlo,'DejaVu Sans Mono',consolas,'Courier New',monospace\">Initialized MLflow to track repo <span style=\"color: #008000; text-decoration-color: #008000\">\"konstantine25b/Machine_learning\"</span>\n",
       "</pre>\n"
      ],
      "text/plain": [
       "Initialized MLflow to track repo \u001b[32m\"konstantine25b/Machine_learning\"\u001b[0m\n"
      ]
     },
     "metadata": {},
     "output_type": "display_data"
    },
    {
     "data": {
      "text/html": [
       "<pre style=\"white-space:pre;overflow-x:auto;line-height:normal;font-family:Menlo,'DejaVu Sans Mono',consolas,'Courier New',monospace\">Repository konstantine25b/Machine_learning initialized!\n",
       "</pre>\n"
      ],
      "text/plain": [
       "Repository konstantine25b/Machine_learning initialized!\n"
      ]
     },
     "metadata": {},
     "output_type": "display_data"
    },
    {
     "name": "stdout",
     "output_type": "stream",
     "text": [
      "DagsHub initialized successfully.\n",
      "MLflow experiment set to: House Prices Experiment - assignment 1\n"
     ]
    }
   ],
   "source": [
    "\n",
    "try:\n",
    "    # Initialize Dagshub only if the repo info is correct\n",
    "    dagshub.init(repo_owner='konstantine25b', repo_name='Machine_learning', mlflow=True)\n",
    "    print(\"DagsHub initialized successfully.\")\n",
    "    mlflow.set_experiment(\"House Prices Experiment - assignment 1\")\n",
    "    print(f\"MLflow experiment set to: {mlflow.get_experiment_by_name('House Prices Experiment - assignment 1').name}\")\n",
    "except Exception as e:\n",
    "    print(f\"Could not initialize DagsHub or set MLflow experiment: {e}\")\n",
    "    print(\"Proceeding without MLflow tracking.\")\n",
    "    # Set a dummy client to avoid errors if tracking fails\n",
    "    mlflow_active = False\n",
    "else:\n",
    "    mlflow_active = True\n",
    "\n",
    "\n"
   ]
  },
  {
   "cell_type": "markdown",
   "metadata": {},
   "source": [
    "### data"
   ]
  },
  {
   "cell_type": "code",
   "execution_count": 25,
   "metadata": {},
   "outputs": [
    {
     "name": "stdout",
     "output_type": "stream",
     "text": [
      "Test data loaded successfully.\n",
      "Initial testing data shape: (1459, 80)\n"
     ]
    }
   ],
   "source": [
    "\n",
    "try:\n",
    "    df_test = pd.read_csv('./house-prices/test.csv')\n",
    "    print(\"Test data loaded successfully.\")\n",
    "    print(f\"Initial testing data shape: {df_test.shape}\")\n",
    "except FileNotFoundError:\n",
    "    print(\"Error: test.csv not found in ./house-prices/. Please ensure the file exists.\")\n",
    "    exit() # Exit if data is missing\n",
    "    \n",
    "\n"
   ]
  },
  {
   "cell_type": "code",
   "execution_count": 27,
   "metadata": {},
   "outputs": [
    {
     "name": "stdout",
     "output_type": "stream",
     "text": [
      "Loading sklearn model from: runs:/2aa7b5ccbf3b42259fa7efe5be192ee6/model_pipeline\n",
      "sklearn model loaded successfully.\n",
      "Predicting using the loaded sklearn pipeline...\n",
      "[HighCorrelationRemover Transform] Dropped columns: ['1stFlrSF', 'Alley_Pave', 'BasementSurfaceRatio', 'BldgType_1Fam', 'BsmtCond_TA', 'BsmtFinType2_Unf', 'BsmtQual_TA', 'CentralAir_Y', 'Electrical_SBrkr', 'ExterCond_TA', 'ExterQual_TA', 'Exterior2nd_AsbShng', 'Exterior2nd_CBlock', 'Exterior2nd_CmentBd', 'Exterior2nd_HdBoard', 'Exterior2nd_MetalSd', 'Exterior2nd_Plywood', 'Exterior2nd_Stucco', 'Exterior2nd_VinylSd', 'Exterior2nd_Wd Sdng', 'FireplaceQu_TA', 'Foundation_PConc', 'Foundation_Slab', 'GarageArea', 'GarageCond_Ex', 'GarageCond_TA', 'GarageQual_TA', 'GarageType_Detchd', 'GarageYrBlt', 'Heating_GasW', 'HouseStyle_1Story', 'HouseStyle_2Story', 'KitchenQual_TA', 'LandSlope_Mod', 'LotConfig_Inside', 'LotShape_Reg', 'MSZoning_RM', 'MasVnrType_Stone', 'MiscFeature_Gar2', 'Neighborhood_Somerst', 'PavedDrive_Y', 'PoolQC_Fa', 'PoolQC_Gd', 'RoofMatl_CompShg', 'RoofMatl_Tar&Grv', 'RoofStyle_Hip', 'RoofStyle_Shed', 'SaleCondition_Partial', 'SaleType_WD', 'Street_Pave', 'TotRmsAbvGrd', 'TotalBuiltAge', 'TotalRemodYears', 'Utilities_NoSeWa']. Shape before: (1459, 292), Shape after: (1459, 238)\n",
      "Predictions completed.\n",
      "First 5 predictions: [120564.87991592 164591.03797916 186505.46034733 193689.94715797\n",
      " 217299.98362319]\n",
      "Creating submission DataFrame...\n",
      "Submission file saved successfully to: ./results/submission_predictions.csv\n",
      "\n",
      "Preview of submission file:\n",
      "     Id      SalePrice\n",
      "0  1461  120564.879916\n",
      "1  1462  164591.037979\n",
      "2  1463  186505.460347\n",
      "3  1464  193689.947158\n",
      "4  1465  217299.983623\n"
     ]
    }
   ],
   "source": [
    "import os\n",
    "\n",
    "\n",
    "logged_model_uri = 'runs:/2aa7b5ccbf3b42259fa7efe5be192ee6/model_pipeline' # Use the specific run ID\n",
    "\n",
    "try:\n",
    "    # Load the scikit-learn flavor directly\n",
    "    print(f\"Loading sklearn model from: {logged_model_uri}\")\n",
    "    loaded_sklearn_pipeline = mlflow.sklearn.load_model(logged_model_uri)\n",
    "    print(\"sklearn model loaded successfully.\")\n",
    "\n",
    "    # --- Make Predictions ---\n",
    "    print(\"Predicting using the loaded sklearn pipeline...\")\n",
    "    # Predict on the test DataFrame (the pipeline will handle preprocessing)\n",
    "    predictions = loaded_sklearn_pipeline.predict(df_test)\n",
    "    print(\"Predictions completed.\")\n",
    "    print(\"First 5 predictions:\", predictions[:5])\n",
    "\n",
    "    # --- Create Submission File ---\n",
    "    print(\"Creating submission DataFrame...\")\n",
    "    # Ensure the 'Id' column exists in the test data\n",
    "    if 'Id' not in df_test.columns:\n",
    "        print(\"Error: 'Id' column not found in test data!\")\n",
    "        exit()\n",
    "\n",
    "    # Create the DataFrame in the required format (Id, SalePrice)\n",
    "    submission_df = pd.DataFrame({\n",
    "        'Id': df_test['Id'],\n",
    "        'SalePrice': predictions\n",
    "    })\n",
    "\n",
    "    # Define output path\n",
    "    output_dir = './results' # Define a directory for results\n",
    "    os.makedirs(output_dir, exist_ok=True) # Create the directory if it doesn't exist\n",
    "    submission_filename = os.path.join(output_dir, 'submission_predictions.csv')\n",
    "\n",
    "    # Save the DataFrame to CSV\n",
    "    submission_df.to_csv(submission_filename, index=False)\n",
    "    print(f\"Submission file saved successfully to: {submission_filename}\")\n",
    "    print(\"\\nPreview of submission file:\")\n",
    "    print(submission_df.head())\n",
    "\n",
    "except Exception as e:\n",
    "    print(f\"An error occurred during model loading or prediction: {e}\")\n",
    "    # More detailed error traceback will be printed if the exception occurs\n"
   ]
  }
 ],
 "metadata": {
  "kernelspec": {
   "display_name": "venv",
   "language": "python",
   "name": "python3"
  },
  "language_info": {
   "codemirror_mode": {
    "name": "ipython",
    "version": 3
   },
   "file_extension": ".py",
   "mimetype": "text/x-python",
   "name": "python",
   "nbconvert_exporter": "python",
   "pygments_lexer": "ipython3",
   "version": "3.11.3"
  }
 },
 "nbformat": 4,
 "nbformat_minor": 2
}
