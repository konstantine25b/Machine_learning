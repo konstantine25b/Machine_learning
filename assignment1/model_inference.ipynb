{
 "cells": [
  {
   "cell_type": "markdown",
   "metadata": {},
   "source": [
    "# Model Inference"
   ]
  },
  {
   "cell_type": "code",
   "execution_count": 46,
   "metadata": {},
   "outputs": [],
   "source": [
    "import mlflow\n",
    "import pandas as pd\n",
    "import numpy as np\n",
    "import dagshub\n",
    "import joblib\n"
   ]
  },
  {
   "cell_type": "markdown",
   "metadata": {},
   "source": [
    "# Best Model"
   ]
  },
  {
   "cell_type": "markdown",
   "metadata": {},
   "source": [
    "### Import dagshub , model"
   ]
  },
  {
   "cell_type": "code",
   "execution_count": 47,
   "metadata": {},
   "outputs": [
    {
     "name": "stderr",
     "output_type": "stream",
     "text": [
      "2025-04-10 00:31:45,486 - INFO - HTTP Request: GET https://dagshub.com/api/v1/repos/konstantine25b/Machine_learning \"HTTP/1.1 200 OK\"\n"
     ]
    },
    {
     "data": {
      "text/html": [
       "<pre style=\"white-space:pre;overflow-x:auto;line-height:normal;font-family:Menlo,'DejaVu Sans Mono',consolas,'Courier New',monospace\">Initialized MLflow to track repo <span style=\"color: #008000; text-decoration-color: #008000\">\"konstantine25b/Machine_learning\"</span>\n",
       "</pre>\n"
      ],
      "text/plain": [
       "Initialized MLflow to track repo \u001b[32m\"konstantine25b/Machine_learning\"\u001b[0m\n"
      ]
     },
     "metadata": {},
     "output_type": "display_data"
    },
    {
     "name": "stderr",
     "output_type": "stream",
     "text": [
      "2025-04-10 00:31:45,494 - INFO - Initialized MLflow to track repo \"konstantine25b/Machine_learning\"\n"
     ]
    },
    {
     "data": {
      "text/html": [
       "<pre style=\"white-space:pre;overflow-x:auto;line-height:normal;font-family:Menlo,'DejaVu Sans Mono',consolas,'Courier New',monospace\">Repository konstantine25b/Machine_learning initialized!\n",
       "</pre>\n"
      ],
      "text/plain": [
       "Repository konstantine25b/Machine_learning initialized!\n"
      ]
     },
     "metadata": {},
     "output_type": "display_data"
    },
    {
     "name": "stderr",
     "output_type": "stream",
     "text": [
      "2025-04-10 00:31:45,496 - INFO - Repository konstantine25b/Machine_learning initialized!\n"
     ]
    },
    {
     "name": "stdout",
     "output_type": "stream",
     "text": [
      "DagsHub initialized successfully.\n",
      "MLflow experiment set to: House Prices Experiment - assignment 1\n"
     ]
    }
   ],
   "source": [
    "\n",
    "\n",
    "\n",
    "try:\n",
    "    # Initialize Dagshub only if the repo info is correct\n",
    "    dagshub.init(repo_owner='konstantine25b', repo_name='Machine_learning', mlflow=True)\n",
    "    print(\"DagsHub initialized successfully.\")\n",
    "    mlflow.set_experiment(\"House Prices Experiment - assignment 1\")\n",
    "    print(f\"MLflow experiment set to: {mlflow.get_experiment_by_name('House Prices Experiment - assignment 1').name}\")\n",
    "except Exception as e:\n",
    "    print(f\"Could not initialize DagsHub or set MLflow experiment: {e}\")\n",
    "    print(\"Proceeding without MLflow tracking.\")\n",
    "    # Set a dummy client to avoid errors if tracking fails\n",
    "    mlflow_active = False\n",
    "else:\n",
    "    mlflow_active = True\n",
    "\n",
    "\n",
    "# Load model and preprocessor\n",
    "model = mlflow.pyfunc.load_model('runs:/8d9abb1ba76d4c0e822e705f5aa8c0cd/LinearRegression_StandardScaler_RFE')\n",
    "preprocessor = joblib.load(\"full_preprocessor.joblib\")\n"
   ]
  },
  {
   "cell_type": "markdown",
   "metadata": {},
   "source": [
    "### data"
   ]
  },
  {
   "cell_type": "code",
   "execution_count": 48,
   "metadata": {},
   "outputs": [
    {
     "name": "stdout",
     "output_type": "stream",
     "text": [
      "Test data loaded successfully.\n",
      "Initial testing data shape: (1459, 80)\n"
     ]
    }
   ],
   "source": [
    "\n",
    "try:\n",
    "    df = pd.read_csv('./house-prices/test.csv')\n",
    "    print(\"Test data loaded successfully.\")\n",
    "    print(f\"Initial testing data shape: {df.shape}\")\n",
    "except FileNotFoundError:\n",
    "    print(\"Error: test.csv not found in ./house-prices/. Please ensure the file exists.\")\n",
    "    exit() # Exit if data is missing\n",
    "    \n",
    "\n"
   ]
  },
  {
   "cell_type": "code",
   "execution_count": null,
   "metadata": {},
   "outputs": [
    {
     "name": "stderr",
     "output_type": "stream",
     "text": [
      "2025/04/10 00:31:47 WARNING mlflow.models.utils: Found extra inputs in the model input that are not defined in the model signature: `['Neighborhood_CollgCr', 'Exterior2nd_Plywood', 'GarageQual_TA', 'EnclosedPorch', 'BsmtExposure_Av', 'Functional_Mod', 'SaleType_CWD', 'Heating_Grav', 'PavedDrive_Y', 'RoofStyle_Shed', 'Heating_Floor', 'GarageQual_Gd', 'Condition1_Norm', 'BsmtFinType2_Unf', 'Foundation_Wood', 'BsmtCond_Po', 'HouseStyle_SLvl', 'GarageYrBlt', 'MiscFeature_Othr', 'RoofMatl_Roll', 'Neighborhood_Gilbert', 'BsmtQual_Gd', '3SsnPorch', 'LandContour_Bnk', 'Exterior1st_AsphShn', 'HouseStyle_2.5Fin', 'Neighborhood_Veenker', 'Exterior1st_MetalSd', 'ExterQual_Fa', 'ExterQual_Gd', 'ExterCond_Gd', 'Electrical_FuseP', 'HeatingQC_Fa', 'BsmtFinType1_ALQ', 'GarageCond_Ex', 'Fence_GdPrv', 'SaleType_Oth', 'SaleType_WD', 'TotRmsAbvGrd', 'MasVnrType_BrkCmn', 'Neighborhood_Mitchel', 'Fireplaces', 'ExterCond_Po', 'RoofStyle_Flat', 'HasGarage', 'GarageFinish_RFn', 'Condition1_RRNe', 'Condition2_RRAe', 'Exterior2nd_MetalSd', 'BsmtHalfBath', 'BsmtFinType2_ALQ', 'Alley_Grvl', 'RoofMatl_Tar&Grv', 'BldgType_2fmCon', 'FireplaceQu_Fa', 'SaleCondition_Normal', 'Heating_Wall', 'GarageType_CarPort', 'MasVnrType_BrkFace', 'CentralAir_N', 'LandContour_Lvl', 'GarageFinish_Unf', 'RoofStyle_Mansard', 'Neighborhood_Timber', 'Functional_Sev', 'KitchenQual_Gd', 'Alley_Pave', 'MiscVal', 'RoofStyle_Gambrel', 'TotalBuiltAge', 'BsmtCond_Gd', 'FullBath', 'LandContour_Low', 'RoofMatl_WdShake', 'BldgType_Twnhs', 'SaleCondition_Partial', 'HouseStyle_1Story', 'CentralAir_Y', 'LotShape_IR1', 'Utilities_NoSeWa', 'PoolQC_Ex', 'YrSold', 'Foundation_Stone', 'LandSlope_Mod', 'WoodDeckSF', 'Condition2_PosA', 'HeatingQC_Ex', 'Electrical_SBrkr', 'Id', 'Exterior2nd_AsphShn', 'LandContour_HLS', 'GarageType_2Types', 'Neighborhood_Somerst', 'Electrical_FuseF', 'ExterQual_Ex', 'BsmtFinType1_Unf', 'GarageCond_TA', 'PavedDrive_P', 'BldgType_1Fam', 'MiscFeature_Gar2', 'Neighborhood_BrkSide', 'Functional_Maj1', 'HeatingQC_TA', 'Neighborhood_BrDale', 'GarageCond_Gd', 'SaleType_New', 'BedroomAbvGr', 'ExterCond_TA', 'BsmtCond_TA', 'BsmtFinType2_Rec', 'Exterior1st_AsbShng', 'Condition2_Artery', 'Exterior2nd_CBlock', 'HouseStyle_1.5Fin', 'PoolArea', 'Exterior2nd_AsbShng', 'Condition1_RRAn', 'Exterior2nd_Wd Sdng', 'OpenPorchSF', 'Foundation_PConc', 'SaleType_COD', 'Neighborhood_Blueste', '1stFlrSF', 'MSZoning_RM', 'HouseStyle_2Story', 'Exterior1st_ImStucc', 'Condition1_RRNn', 'LotShape_IR2', 'LandSlope_Gtl', 'LotShape_IR3', 'MasVnrArea', 'Condition1_PosN', 'TotalRemodYears', 'Condition2_Feedr', 'MSZoning_C (all)', 'Condition2_RRAn', 'Exterior2nd_ImStucc', 'Utilities_AllPub', 'MasVnrType_Stone', 'Heating_GasA', 'SaleCondition_Alloca', 'MoSold', 'Neighborhood_SWISU', 'Condition2_Norm', 'LowQualFinSF', 'Exterior1st_Stone', 'GarageArea', 'Neighborhood_IDOTRR', 'Exterior1st_VinylSd', 'Exterior1st_Wd Sdng', 'Heating_OthW', 'KitchenQual_Fa', 'Functional_Min1', 'FireplaceQu_Po', 'RoofMatl_Metal', 'BsmtUnfSF', 'ExterCond_Ex', 'FireplaceQu_TA', 'Exterior2nd_HdBoard', 'Exterior2nd_CmentBd', 'BsmtFinType2_LwQ', 'Foundation_Slab', 'HouseStyle_SFoyer', 'HouseStyle_2.5Unf', '2ndFlrSF', 'KitchenQual_TA', 'RoofMatl_CompShg', 'Condition1_Artery', 'SaleCondition_Family', 'SaleType_ConLD', 'BldgType_TwnhsE', 'RoofMatl_WdShngl', 'BsmtQual_TA', 'BsmtFinType1_Rec', 'LandSlope_Sev', 'Neighborhood_NWAmes', 'Neighborhood_Sawyer', 'MiscFeature_TenC', 'Exterior2nd_Stucco', 'SaleType_Con', 'GarageCond_Po', 'BasementSurfaceRatio', 'Exterior2nd_Stone', 'Neighborhood_OldTown', 'Electrical_FuseA', 'BsmtFinType1_GLQ', 'HalfBath', 'MSZoning_RL', 'MSZoning_RH', 'BsmtFinSF2', 'Condition2_RRNn', 'Exterior1st_CemntBd', 'FireplaceQu_Ex', 'Functional_Min2', 'Condition1_Feedr', 'BsmtExposure_Mn', 'Exterior1st_BrkComm', 'PavedDrive_N', 'MiscFeature_Shed', 'Exterior1st_Stucco', 'SaleCondition_AdjLand', 'Heating_GasW', 'Street_Pave', 'PoolQC_Fa', 'Exterior2nd_Other', 'KitchenAbvGr', 'LotConfig_Inside', 'Exterior1st_WdShing', 'Exterior2nd_BrkFace', 'BsmtExposure_No', 'Foundation_BrkTil', 'BsmtQual_Fa', 'GarageQual_Po', 'Neighborhood_NAmes', 'GarageType_Basment', 'HouseStyle_1.5Unf', 'Exterior2nd_Brk Cmn', 'LotShape_Reg', 'Exterior2nd_Wd Shng', 'FireplaceQu_Gd', 'Fence_MnWw', 'HeatingQC_Gd', 'Exterior1st_Plywood', 'Neighborhood_Edwards', 'BsmtFinType1_BLQ', 'SaleType_ConLw', 'ExterQual_TA', 'Neighborhood_NPkVill', 'LotFrontage', 'Foundation_CBlock', 'Fence_GdWo', 'LotConfig_FR2', 'Functional_Maj2', 'BsmtFullBath', 'HasBasement', 'ExterCond_Fa', 'SaleType_ConLI', 'ScreenPorch', 'Neighborhood_Blmngtn', 'Condition1_RRAe', 'RoofStyle_Hip', 'HeatingQC_Po', 'GarageType_Attchd', 'GarageCond_Fa', 'Neighborhood_MeadowV', 'LotConfig_FR3', 'GarageQual_Fa', 'PoolQC_Gd', 'RoofStyle_Gable', 'GarageType_BuiltIn', 'Exterior2nd_VinylSd', 'Exterior1st_HdBoard', 'GarageFinish_Fin', 'LotConfig_CulDSac', 'Neighborhood_ClearCr', 'Neighborhood_SawyerW', 'BsmtCond_Fa', 'BsmtFinType1_LwQ', 'Condition1_PosA', 'Exterior1st_CBlock', 'BsmtFinType2_BLQ', 'BsmtFinType2_GLQ', 'Fence_MnPrv', 'Street_Grvl', 'LotConfig_Corner', 'GarageQual_Ex', 'GarageType_Detchd']`. These inputs will be ignored.\n"
     ]
    },
    {
     "name": "stdout",
     "output_type": "stream",
     "text": [
      "[HighCorrelationRemover] No columns to drop.\n"
     ]
    },
    {
     "name": "stderr",
     "output_type": "stream",
     "text": [
      "/Users/konstantine25b/Desktop/uni machine learning/venv/lib/python3.11/site-packages/sklearn/utils/validation.py:2732: UserWarning: X has feature names, but LinearRegression was fitted without feature names\n",
      "  warnings.warn(\n"
     ]
    }
   ],
   "source": [
    "# Fix missing attribute if needed\n",
    "if not hasattr(preprocessor.named_steps['correlation_remover'], 'cols_todrop'):\n",
    "    preprocessor.named_steps['correlation_remover'].cols_todrop = set()\n",
    "\n",
    "# Load and preprocess test data\n",
    "test_df = pd.read_csv('./house-prices/test.csv')\n",
    "X_processed = preprocessor.transform(test_df)\n",
    "\n",
    "# Make predictions\n",
    "predictions = model.predict(X_processed)"
   ]
  }
 ],
 "metadata": {
  "kernelspec": {
   "display_name": "venv",
   "language": "python",
   "name": "python3"
  },
  "language_info": {
   "codemirror_mode": {
    "name": "ipython",
    "version": 3
   },
   "file_extension": ".py",
   "mimetype": "text/x-python",
   "name": "python",
   "nbconvert_exporter": "python",
   "pygments_lexer": "ipython3",
   "version": "3.11.3"
  }
 },
 "nbformat": 4,
 "nbformat_minor": 2
}
